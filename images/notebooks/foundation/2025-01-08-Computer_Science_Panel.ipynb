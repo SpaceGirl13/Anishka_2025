{
 "cells": [
  {
   "cell_type": "code",
   "execution_count": null,
   "metadata": {
    "vscode": {
     "languageId": "plaintext"
    }
   },
   "outputs": [],
   "source": [
    "---\n",
    "layout: post\n",
    "title: Computer Science Panel\n",
    "description:  Computer Science Panel\n",
    "type: issues \n",
    "comments: true\n",
    "---"
   ]
  },
  {
   "cell_type": "markdown",
   "metadata": {},
   "source": [
    "<img width=\"905\" alt=\"Image\" src=\"https://github.com/user-attachments/assets/69201a9c-eede-481d-8043-6b93aca8bf95\" />"
   ]
  },
  {
   "cell_type": "markdown",
   "metadata": {},
   "source": [
    "\n",
    "- It is helpful to discuss ideas with peers/seniors\n",
    "- Understand how your code works fully\n",
    "- Communicate and summarizing what you’re working on is a really important skill\n",
    "- Clear and direct communication is vital when presenting\n",
    "- Deliver the question “tell me about yourself” well and effectively\n",
    "- Incorporating clear methodology\n",
    "- Flowcharts are helpful for this\n",
    "- Team collaboration is useful for internships and clubs\n",
    "- Good skill to be organized with github\n",
    "- Learning how to combine ideas and reach a consensus\n",
    "- Hackathons are really similar to Mr. Mortenson’s class\n",
    "- Comment every single line to understand your code\n",
    "- APs don’t transfer over to ivy league, you can get a lot of credits and graduate early\n",
    "- There are also humanities classes, helpful community\n",
    "- In college essays, talked about projects did in CSA\n",
    "- Find places for college that fit your learning style\n",
    "- Once you get to your school, explore, go to panels and clubs, see what is out there\n",
    "- Look at your major and look at the specific classes and things the college provide\n",
    "- What do you want to be part of?\n",
    "- Show your passion and find a specific thing from that university you want to part of and impact \n",
    "- Investigate the catalogs and what classes are offered\n",
    "- Take community college classes, very helpful to take those credits\n",
    "- A lot more classes count, dual enrollment, transfer to your actual college and helps you finish faster\n",
    "- Helpful to have taken it before, less studying/spending time on it\n",
    "- Companies don’t really look at GPA, they look at the jobs you have done and what you are capable of\n",
    "- Focus on learning how to implement ideas and think of problems that way\n",
    "- Build a lot of websites, great way to make connections, meeting people\n",
    "- Cybersecurity conferences and competitions - great way for connections\n",
    "- Talk about it in internships like northrop grumman\n",
    "- Email professors for internships\n",
    "- Stick to the clubs you are passionate about\n"
   ]
  }
 ],
 "metadata": {
  "language_info": {
   "name": "python"
  }
 },
 "nbformat": 4,
 "nbformat_minor": 2
}
