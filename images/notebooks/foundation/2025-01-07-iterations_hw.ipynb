{
 "cells": [
  {
   "cell_type": "raw",
   "metadata": {
    "vscode": {
     "languageId": "raw"
    }
   },
   "source": [
    "---\n",
    "comments: True\n",
    "layout: post\n",
    "title: Iteration Homework\n",
    "description: Iterations HW\n",
    "permalink: /csse/javascript/fundamentals/iteration/hw\n",
    "categories: [CSSE JavaScript Fundamentals]\n",
    "author: Andrew Ge, Ishan Shrivastava, Pratheep Natarajan, and Ruhaan Bansal\n",
    "---  "
   ]
  },
  {
   "cell_type": "markdown",
   "metadata": {},
   "source": [
    "### Exercise 1: Multiplication Table\n",
    "##### Write a JavaScript program to print the multiplication table for a given number."
   ]
  },
  {
   "cell_type": "markdown",
   "metadata": {},
   "source": [
    "##### Example:\n",
    "##### Input: 3\n",
    "##### Output:\n",
    "##### 3 x 1 = 3\n",
    "##### 3 x 2 = 6\n",
    "##### ...\n",
    "##### 3 x 10 = 30"
   ]
  },
  {
   "cell_type": "code",
   "execution_count": 4,
   "metadata": {
    "vscode": {
     "languageId": "javascript"
    }
   },
   "outputs": [
    {
     "data": {
      "application/javascript": "let number = 4\nfor (let count = 1; count < 11; count++, number) {\n    console.log(`${number} x ${count} = ${count*number}`);\n}\n",
      "text/plain": [
       "<IPython.core.display.Javascript object>"
      ]
     },
     "metadata": {},
     "output_type": "display_data"
    }
   ],
   "source": [
    "%%js\n",
    "let number = 4\n",
    "for (let count = 1; count < 11; count++, number) {\n",
    "    console.log(`${number} x ${count} = ${count*number}`);\n",
    "}"
   ]
  },
  {
   "cell_type": "markdown",
   "metadata": {},
   "source": [
    "### Exercise 2: Nested Loops\n",
    "##### Write a JavaScript program using nested loops to generate the following pattern:"
   ]
  },
  {
   "cell_type": "markdown",
   "metadata": {},
   "source": [
    "##### Output:\n",
    "##### 0\n",
    "##### 00\n",
    "##### 000\n",
    "##### 0000\n",
    "##### 00000"
   ]
  },
  {
   "cell_type": "code",
   "execution_count": 5,
   "metadata": {
    "vscode": {
     "languageId": "javascript"
    }
   },
   "outputs": [
    {
     "data": {
      "application/javascript": "for (let count = 1; count < 6; count++) {\n    let output = '0'\n    let pattern = output.repeat(count);\n    console.log(pattern);\n}\n",
      "text/plain": [
       "<IPython.core.display.Javascript object>"
      ]
     },
     "metadata": {},
     "output_type": "display_data"
    }
   ],
   "source": [
    "%%js\n",
    "for (let count = 1; count < 6; count++) {\n",
    "    let output = '0'\n",
    "    let pattern = output.repeat(count);\n",
    "    console.log(pattern);\n",
    "}"
   ]
  },
  {
   "cell_type": "markdown",
   "metadata": {},
   "source": [
    "### Challenge Exercise: Prime Numbers\n",
    "##### Write a JavaScript program to print all prime numbers between 1 and 50."
   ]
  },
  {
   "cell_type": "code",
   "execution_count": 6,
   "metadata": {
    "vscode": {
     "languageId": "javascript"
    }
   },
   "outputs": [
    {
     "data": {
      "application/javascript": "\nfunction isPrime(num) {\n    if (num < 2) return false; // 0 and 1 are not prime numbers, so we're only checking for numbers greater than that\n    for (let i = 2; i <= Math.sqrt(num); i++) {\n        if (num % i === 0) { //if the number divided by i has a remainder of 0\n            return false; // If it is divisible by any number other than 1 and itself, then it's not prime\n        }\n    }\n    return true; // The number is prime\n}\n\nfunction printPrimesInRange(start, end) {\n    console.log(`Prime numbers between ${start} and ${end}:`); \n    for (let num = start; num <= end; num++) {\n        if (isPrime(num)) {\n            console.log(num);\n        }\n    }\n}\n\n// Call the function for the range 0 to 25\nprintPrimesInRange(0,50);\n",
      "text/plain": [
       "<IPython.core.display.Javascript object>"
      ]
     },
     "metadata": {},
     "output_type": "display_data"
    }
   ],
   "source": [
    "%%js\n",
    "\n",
    "function isPrime(num) {\n",
    "    if (num < 2) return false; // 0 and 1 are not prime numbers, so we're only checking for numbers greater than that\n",
    "    for (let i = 2; i <= Math.sqrt(num); i++) {\n",
    "        if (num % i === 0) { //if the number divided by i has a remainder of 0\n",
    "            return false; // If it is divisible by any number other than 1 and itself, then it's not prime\n",
    "        }\n",
    "    }\n",
    "    return true; // The number is prime\n",
    "}\n",
    "\n",
    "function printPrimesInRange(start, end) {\n",
    "    console.log(`Prime numbers between ${start} and ${end}:`); \n",
    "    for (let num = start; num <= end; num++) {\n",
    "        if (isPrime(num)) {\n",
    "            console.log(num);\n",
    "        }\n",
    "    }\n",
    "}\n",
    "\n",
    "// Call the function for the range 0 to 25\n",
    "printPrimesInRange(0,50);\n"
   ]
  },
  {
   "cell_type": "markdown",
   "metadata": {},
   "source": [
    "# End of Homework"
   ]
  }
 ],
 "metadata": {
  "kernelspec": {
   "display_name": "venv",
   "language": "python",
   "name": "python3"
  },
  "language_info": {
   "codemirror_mode": {
    "name": "ipython",
    "version": 3
   },
   "file_extension": ".py",
   "mimetype": "text/x-python",
   "name": "python",
   "nbconvert_exporter": "python",
   "pygments_lexer": "ipython3",
   "version": "3.13.0"
  }
 },
 "nbformat": 4,
 "nbformat_minor": 2
}
