{
 "cells": [
  {
   "cell_type": "code",
   "execution_count": null,
   "metadata": {
    "vscode": {
     "languageId": "plaintext"
    }
   },
   "outputs": [],
   "source": [
    "---\n",
    "layout: post\n",
    "title: CSSE1 Final\n",
    "description:  CSSE1 Final\n",
    "type: issues \n",
    "comments: true\n",
    "---"
   ]
  },
  {
   "cell_type": "markdown",
   "metadata": {},
   "source": [
    "5 Key Things I learned over the past 12 weeks:\n",
    " - Better presentation skills for live reviews and teaching lessons\n",
    " - I Learned how to use github and vscode effectively so that everything was more organized\n",
    " - I Learned the basics of JavaScript and how to implement the lessons we learned in code our game\n",
    " - Planning out our game by making a flowchart so that we know what steps we need to follow\n",
    " - Using Jupyter notebooks and codecells\n"
   ]
  },
  {
   "cell_type": "markdown",
   "metadata": {},
   "source": [
    "## N@TM "
   ]
  },
  {
   "cell_type": "markdown",
   "metadata": {},
   "source": [
    "We saw a lot of great games at N@TM.\n",
    "\n",
    "One of the games we reviewed was very interesting where the player had to reach the wizard at the other side of the screen to get to the next level, but they had to do this before the bat reached the player, otherwise the player would explode. The explosion was a very cool feature they added. Something else they had was a black hole that the player could enter to get to the next level. \n",
    "\n",
    "Another very cool game we reviewed was where you had to interact with different npcs to escape the room, similar to ours, except there were multiple ways the conversation could go, since there were options for you to choose for your reply. There was also a quiz that got graded automatically. \n",
    "\n",
    "![Image](https://github.com/user-attachments/assets/887a0e39-09f6-436d-8fde-fef750589f87)\n",
    "![Image](https://github.com/user-attachments/assets/64c90634-837f-431b-a7f9-e7096e810933)\n",
    "![Image](https://github.com/user-attachments/assets/a123d469-d278-4a93-a993-34c38bba7af2)\n",
    "![Image](https://github.com/user-attachments/assets/d6fccf69-ff8b-496b-8c18-2fa6502271ac)\n"
   ]
  },
  {
   "cell_type": "markdown",
   "metadata": {},
   "source": [
    "### Feedback we recieved"
   ]
  },
  {
   "cell_type": "markdown",
   "metadata": {},
   "source": [
    "Overall we got a lot of positive feedback about our animations, pictures,and interactivity. People also enjoyed the puzzle aspect of the game. To improve, we were given feedback to slow doown the adventurer and making it easier for the user to figure out how to play.\n"
   ]
  },
  {
   "cell_type": "markdown",
   "metadata": {},
   "source": [
    "## Computer Science Panel"
   ]
  },
  {
   "cell_type": "markdown",
   "metadata": {},
   "source": [
    "I've been thinking about doing computer science in the future, which is why I went to the computer science panel to learn more about this field and how to be successful in it.<img width=\"905\" alt=\"Image\" src=\"https://github.com/user-attachments/assets/69201a9c-eede-481d-8043-6b93aca8bf95\" />"
   ]
  },
  {
   "cell_type": "markdown",
   "metadata": {},
   "source": [
    "## Self Reflection\n",
    "\n",
    "### Strengths \n",
    "- Effective collaboration with my team\n",
    "- Previous experience with coding made it easier for me to understand the basics of JavaScript\n",
    "- Hard worker - commited to what I do\n",
    "\n",
    "### Weaknesses\n",
    "- Still understanding some things in JavaScript\n",
    "- Not very good at following plans - like through the flowchart"
   ]
  },
  {
   "cell_type": "markdown",
   "metadata": {},
   "source": [
    "## Self Assessment"
   ]
  },
  {
   "cell_type": "markdown",
   "metadata": {},
   "source": [
    "I would give myself a 4.65 out of 5 points.\n",
    "\n",
    "I've learned a lot in this class, and the 5 key points I have specified really helped me to become better at coding and improve in general, so I would give myself a 1 out of 1 for that.\n",
    "\n",
    "For the 3 tinkers, I would give myself a 0.9 out of 1, because there is still somethings that we planned on improving but didn't quite work yet. We still tried really hard though to get everything functioning.\n",
    "\n",
    "For our tinker description and flowchart, I would give myself a 0.9 out of 1, because I think I showed our code that was used pretty well and followed the flowchart closely. \n",
    "\n",
    "For our N@TM feedback, I would give myself a 0.85 out of 1. We got some good feedback, but we still need to work on implementing it.\n",
    "\n",
    "For the retrospective, I would give myself a 1 out of 1. I tried to understand other peoples games and play them at N@TM and I'm thinking about computer science in the future.\n"
   ]
  }
 ],
 "metadata": {
  "language_info": {
   "name": "python"
  }
 },
 "nbformat": 4,
 "nbformat_minor": 2
}
