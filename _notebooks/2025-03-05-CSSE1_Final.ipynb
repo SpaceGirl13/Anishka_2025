{
 "cells": [
  {
   "cell_type": "code",
   "execution_count": null,
   "metadata": {
    "vscode": {
     "languageId": "plaintext"
    }
   },
   "outputs": [],
   "source": [
    "---\n",
    "layout: post\n",
    "title: CSSE1 Final\n",
    "description:  CSSE1 Final\n",
    "type: issues \n",
    "comments: true\n",
    "---"
   ]
  },
  {
   "cell_type": "markdown",
   "metadata": {},
   "source": [
    "5 Key Things I learned over the past 12 weeks:\n",
    " - Better presentation skills for live reviews and teaching lessons\n",
    " - I Learned how to use github and vscode effectively so that everything was more organized\n",
    " - I Learned the basics of JavaScript and how to implement the lessons we learned in code our game\n",
    " - Planning out our game by making a flowchart so that we know what steps we need to follow\n",
    " - Using Jupyter notebooks and codecells\n"
   ]
  },
  {
   "cell_type": "markdown",
   "metadata": {},
   "source": [
    "3 Tinkers:  \n",
    "\n",
    "1st Tinker: Giving the npcs a spinning idle animation"
   ]
  },
  {
   "cell_type": "code",
   "execution_count": null,
   "metadata": {
    "vscode": {
     "languageId": "javascript"
    }
   },
   "outputs": [],
   "source": [
    "      this.spinAngle = this.spinAngle || 0;\n",
    "\n",
    "      if (directionData.rotate || directionData.mirror || directionData.spin) {\n",
    "        this.ctx.translate(this.canvas.width / 2, this.canvas.height / 2);\n",
    "\n",
    "        if (directionData.rotate) {\n",
    "          this.ctx.rotate(directionData.rotate);\n",
    "        }\n",
    "\n",
    "        if (directionData.mirror) {\n",
    "          this.ctx.scale(-1, 1);\n",
    "        }\n",
    "\n",
    "        if (directionData.spin) {\n",
    "          // Increment the angle at a controlled speed\n",
    "          this.spinAngle += Math.PI / 100; // Adjust the divisor for slower spin\n",
    "          this.ctx.rotate(this.spinAngle);\n",
    "        }\n",
    "\n",
    "        this.ctx.translate(-this.canvas.width / 2, -this.canvas.height / 2);\n",
    "      }"
   ]
  },
  {
   "cell_type": "markdown",
   "metadata": {},
   "source": [
    "This shows how the spin is coded and how the characters can spin. At first, the spin was too much, and the characters were spinning too fast, but we were able to adjust it to make the spinning more reasonable."
   ]
  },
  {
   "cell_type": "code",
   "execution_count": null,
   "metadata": {
    "vscode": {
     "languageId": "javascript"
    }
   },
   "outputs": [],
   "source": [
    "const sprite_src_pink = path + \"/images/gamify/Pink_meteor.png\"; // be sure to include the path\n",
    "const sprite_data_pink = {\n",
    "  id: \"Pink_Meteor\",\n",
    "  name: \"Pink Meteor\",\n",
    "  hintKey: 77,\n",
    "  hint: \"I am four letters long, I can be seen in the sky, I am the ocean & I am the C.\",\n",
    "  greeting: \"Hiiiiii!!!\",\n",
    "  src: sprite_src_pink,\n",
    "  SCALE_FACTOR: 10, // Adjust this based on your scaling needs\n",
    "  ANIMATION_RATE: 100,\n",
    "  pixels: { height: 452, width: 494 },\n",
    "  INIT_POSITION: { x: width / 2, y: height / 2 },\n",
    "  orientation: { rows: 1, columns: 1 },\n",
    "  down: { row: 0, start: 0, columns: 1, spin: 1.5 }, // This is the stationary npc, down is default\n",
    "  hitbox: { widthPercentage: 0.1, heightPercentage: 0.2 },\n",
    "};"
   ]
  },
  {
   "cell_type": "markdown",
   "metadata": {},
   "source": [
    "This shows how we made it so that you can easily make a character spin by just giving a value and the character spinning by a certain speed."
   ]
  },
  {
   "cell_type": "markdown",
   "metadata": {},
   "source": [
    "2nd Tinker: Adjusting the locations of the sprites so that they are spread out"
   ]
  },
  {
   "cell_type": "code",
   "execution_count": null,
   "metadata": {
    "vscode": {
     "languageId": "javascript"
    }
   },
   "outputs": [],
   "source": [
    "const sprite_src_purple = path + \"/images/gamify/Purple_meteor.png\"; // be sure to include the path\n",
    "const sprite_data_purple = {\n",
    "  id: \"Purple_Meteor\",\n",
    "  greeting: \"Hello!\",\n",
    "  src: sprite_src_purple,\n",
    "  SCALE_FACTOR: 10, // Adjust this based on your scaling needs\n",
    "  ANIMATION_RATE: 100,\n",
    "  pixels: { height: 452, width: 494 },\n",
    "  INIT_POSITION: { x: (width * 4) / 5, y: (height * 2) / 5 },\n",
    "  orientation: { rows: 1, columns: 1 },\n",
    "  down: { row: 0, start: 0, columns: 1, spin: 1.5 }, // This is the stationary npc, down is default\n",
    "  hitbox: { widthPercentage: 0.1, heightPercentage: 0.2 },\n",
    "}"
   ]
  },
  {
   "cell_type": "markdown",
   "metadata": {},
   "source": [
    "For all the sprites, we encountered a problem where they were too close together, so the player had trouble adventuring because they kept bumping into all the meteors. We had to figure out not to change the INIT_POSITION the correct way, along with understanding the scale factor and amount of pixels used so that the animation would work correctly"
   ]
  },
  {
   "cell_type": "markdown",
   "metadata": {},
   "source": [
    "3rd Tinker: Making the NPCs show up on the screen"
   ]
  },
  {
   "cell_type": "code",
   "execution_count": null,
   "metadata": {
    "vscode": {
     "languageId": "javascript"
    }
   },
   "outputs": [],
   "source": [
    "    // List of objects defnitions for this level\n",
    "    this.objects = [\n",
    "        { class: Background, data: image_data_space },\n",
    "        { class: Player, data: sprite_data_chillguy },\n",
    "        { class: Npc, data: sprite_data_ditto },\n",
    "        { class: Npc, data: sprite_data_orange },\n",
    "        { class: Npc, data: sprite_data_pink },\n",
    "        { class: Npc, data: sprite_data_purple },\n",
    "        { class: Npc, data: sprite_data_blue },\n",
    "      ];"
   ]
  },
  {
   "cell_type": "markdown",
   "metadata": {},
   "source": [
    "We learned that we need to change the list of object definitions to include the new npcs as well."
   ]
  },
  {
   "cell_type": "markdown",
   "metadata": {},
   "source": [
    "Here is our flowchart: ![Image](https://github.com/user-attachments/assets/0729ea2f-aacf-41c5-b46b-6057159fe45f)"
   ]
  },
  {
   "cell_type": "markdown",
   "metadata": {},
   "source": [
    "## N@TM "
   ]
  },
  {
   "cell_type": "markdown",
   "metadata": {},
   "source": [
    "We saw a lot of great games at N@TM.\n",
    "\n",
    "One of the games we reviewed was very interesting where the player had to reach the wizard at the other side of the screen to get to the next level, but they had to do this before the bat reached the player, otherwise the player would explode. The explosion was a very cool feature they added. Something else they had was a black hole that the player could enter to get to the next level. \n",
    "\n",
    "Another very cool game we reviewed was where you had to interact with different npcs to escape the room, similar to ours, except there were multiple ways the conversation could go, since there were options for you to choose for your reply. There was also a quiz that got graded automatically. \n",
    "\n",
    "![Image](https://github.com/user-attachments/assets/887a0e39-09f6-436d-8fde-fef750589f87)\n",
    "![Image](https://github.com/user-attachments/assets/64c90634-837f-431b-a7f9-e7096e810933)\n",
    "![Image](https://github.com/user-attachments/assets/a123d469-d278-4a93-a993-34c38bba7af2)\n",
    "![Image](https://github.com/user-attachments/assets/d6fccf69-ff8b-496b-8c18-2fa6502271ac)\n"
   ]
  },
  {
   "cell_type": "markdown",
   "metadata": {},
   "source": [
    "### Feedback we recieved"
   ]
  },
  {
   "cell_type": "markdown",
   "metadata": {},
   "source": [
    "I like how the npcs have a spinning idle animation. It looks really cute!!!! Also, I like how to solve the game and escape you have to talk to multiple npcs and figure out puzzles. Good job! Btw you can improve the game by slowing down chillguy cuz rn bro literally thinks he's Lightning Mqueen himself\n",
    "\n",
    "I like the cute pictures and interactivity. It's a nice puzzle. It is challenging to figure out the puzzle and solve the game. Good job!\n",
    "\n",
    "This game was simple but very cute and fun to play! I loved the way the puzzles were made and the little hints that were given to the player in order to lead them in the right direction. In my opinion, this is a great game to start out with and could always use more puzzles to build onto it. Overall, this game is personally right up my alley and I enjoyed playing it and figuring out the puzzles with a little help from the NPCS!\n"
   ]
  },
  {
   "cell_type": "markdown",
   "metadata": {},
   "source": [
    "### How to improve"
   ]
  },
  {
   "cell_type": "markdown",
   "metadata": {},
   "source": [
    "Based on the reviews we made our character slow down and are currently making the game easier for the user to understand and interact with. We made the character slow down by adjusting the animation rate. We are also planning on making a proximity function so that pressing a key will only reveal the text box if the player is in the npcs hitbox, otherwise the person playing the game can just end the game without going through the npcs."
   ]
  },
  {
   "cell_type": "markdown",
   "metadata": {},
   "source": [
    "## Computer Science Panel"
   ]
  },
  {
   "cell_type": "markdown",
   "metadata": {},
   "source": [
    "I've been thinking about doing computer science in the future, which is why I went to the computer science panel to learn more about this field and how to be successful in it.<img width=\"905\" alt=\"Image\" src=\"https://github.com/user-attachments/assets/69201a9c-eede-481d-8043-6b93aca8bf95\" />"
   ]
  },
  {
   "cell_type": "markdown",
   "metadata": {},
   "source": [
    "## Self Assessment"
   ]
  },
  {
   "cell_type": "markdown",
   "metadata": {},
   "source": [
    "I would give myself a 4.65 out of 5 points.\n",
    "\n",
    "I've learned a lot in this class, and the 5 key points I have specified really helped me to become better at coding and improve in general, so I would give myself a 1 out of 1 for that.\n",
    "\n",
    "For the 3 tinkers, I would give myself a 0.9 out of 1, because there is still somethings that we planned on improving but didn't quite work yet. We still tried really hard though to get everything functioning.\n",
    "\n",
    "For our tinker description and flowchart, I would give myself a 0.9 out of 1, because I think I showed our code that was used pretty well and followed the flowchart closely. \n",
    "\n",
    "For our N@TM feedback, I would give myself a 0.85 out of 1. We got some good feedback, but we still need to work on implementing it.\n",
    "\n",
    "For the retrospective, I would give myself a 1 out of 1. I tried to understand other peoples games and play them at N@TM and I'm thinking about computer science in the future.\n"
   ]
  }
 ],
 "metadata": {
  "language_info": {
   "name": "python"
  }
 },
 "nbformat": 4,
 "nbformat_minor": 2
}
