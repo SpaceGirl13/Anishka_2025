{
 "cells": [
  {
   "cell_type": "code",
   "execution_count": null,
   "metadata": {
    "vscode": {
     "languageId": "plaintext"
    }
   },
   "outputs": [],
   "source": [
    "---\n",
    "layout: post\n",
    "title: RPG \n",
    "description:  RPG\n",
    "type: issues \n",
    "comments: true\n",
    "---"
   ]
  },
  {
   "cell_type": "markdown",
   "metadata": {},
   "source": [
    "3 Tinkers:  \n",
    "\n",
    "1st Tinker: Giving the npcs a spinning idle animation"
   ]
  },
  {
   "cell_type": "code",
   "execution_count": null,
   "metadata": {
    "vscode": {
     "languageId": "javascript"
    }
   },
   "outputs": [],
   "source": [
    "      this.spinAngle = this.spinAngle || 0;\n",
    "\n",
    "      if (directionData.rotate || directionData.mirror || directionData.spin) {\n",
    "        this.ctx.translate(this.canvas.width / 2, this.canvas.height / 2);\n",
    "\n",
    "        if (directionData.rotate) {\n",
    "          this.ctx.rotate(directionData.rotate);\n",
    "        }\n",
    "\n",
    "        if (directionData.mirror) {\n",
    "          this.ctx.scale(-1, 1);\n",
    "        }\n",
    "\n",
    "        if (directionData.spin) {\n",
    "          // Increment the angle at a controlled speed\n",
    "          this.spinAngle += Math.PI / 100; // Adjust the divisor for slower spin\n",
    "          this.ctx.rotate(this.spinAngle);\n",
    "        }\n",
    "\n",
    "        this.ctx.translate(-this.canvas.width / 2, -this.canvas.height / 2);\n",
    "      }"
   ]
  },
  {
   "cell_type": "markdown",
   "metadata": {},
   "source": [
    "This shows how the spin is coded and how the characters can spin. At first, the spin was too much, and the characters were spinning too fast, but we were able to adjust it to make the spinning more reasonable."
   ]
  },
  {
   "cell_type": "code",
   "execution_count": null,
   "metadata": {
    "vscode": {
     "languageId": "javascript"
    }
   },
   "outputs": [],
   "source": [
    "const sprite_src_pink = path + \"/images/gamify/Pink_meteor.png\"; // be sure to include the path\n",
    "const sprite_data_pink = {\n",
    "  id: \"Pink_Meteor\",\n",
    "  name: \"Pink Meteor\",\n",
    "  hintKey: 77,\n",
    "  hint: \"I am four letters long, I can be seen in the sky, I am the ocean & I am the C.\",\n",
    "  greeting: \"Hiiiiii!!!\",\n",
    "  src: sprite_src_pink,\n",
    "  SCALE_FACTOR: 10, // Adjust this based on your scaling needs\n",
    "  ANIMATION_RATE: 100,\n",
    "  pixels: { height: 452, width: 494 },\n",
    "  INIT_POSITION: { x: width / 2, y: height / 2 },\n",
    "  orientation: { rows: 1, columns: 1 },\n",
    "  down: { row: 0, start: 0, columns: 1, spin: 1.5 }, // This is the stationary npc, down is default\n",
    "  hitbox: { widthPercentage: 0.1, heightPercentage: 0.2 },\n",
    "};"
   ]
  },
  {
   "cell_type": "markdown",
   "metadata": {},
   "source": [
    "This shows how we made it so that you can easily make a character spin by just giving a value and the character spinning by a certain speed."
   ]
  },
  {
   "cell_type": "markdown",
   "metadata": {},
   "source": [
    "2nd Tinker: Adjusting the locations of the sprites so that they are spread out"
   ]
  },
  {
   "cell_type": "code",
   "execution_count": null,
   "metadata": {
    "vscode": {
     "languageId": "javascript"
    }
   },
   "outputs": [],
   "source": [
    "const sprite_src_purple = path + \"/images/gamify/Purple_meteor.png\"; // be sure to include the path\n",
    "const sprite_data_purple = {\n",
    "  id: \"Purple_Meteor\",\n",
    "  greeting: \"Hello!\",\n",
    "  src: sprite_src_purple,\n",
    "  SCALE_FACTOR: 10, // Adjust this based on your scaling needs\n",
    "  ANIMATION_RATE: 100,\n",
    "  pixels: { height: 452, width: 494 },\n",
    "  INIT_POSITION: { x: (width * 4) / 5, y: (height * 2) / 5 },\n",
    "  orientation: { rows: 1, columns: 1 },\n",
    "  down: { row: 0, start: 0, columns: 1, spin: 1.5 }, // This is the stationary npc, down is default\n",
    "  hitbox: { widthPercentage: 0.1, heightPercentage: 0.2 },\n",
    "}"
   ]
  },
  {
   "cell_type": "markdown",
   "metadata": {},
   "source": [
    "For all the sprites, we encountered a problem where they were too close together, so the player had trouble adventuring because they kept bumping into all the meteors. We had to figure out not to change the INIT_POSITION the correct way, along with understanding the scale factor and amount of pixels used so that the animation would work correctly"
   ]
  },
  {
   "cell_type": "markdown",
   "metadata": {},
   "source": [
    "3rd Tinker: Making the NPCs show up on the screen"
   ]
  },
  {
   "cell_type": "code",
   "execution_count": null,
   "metadata": {
    "vscode": {
     "languageId": "javascript"
    }
   },
   "outputs": [],
   "source": [
    "    // List of objects defnitions for this level\n",
    "    this.objects = [\n",
    "        { class: Background, data: image_data_space },\n",
    "        { class: Player, data: sprite_data_chillguy },\n",
    "        { class: Npc, data: sprite_data_ditto },\n",
    "        { class: Npc, data: sprite_data_orange },\n",
    "        { class: Npc, data: sprite_data_pink },\n",
    "        { class: Npc, data: sprite_data_purple },\n",
    "        { class: Npc, data: sprite_data_blue },\n",
    "      ];"
   ]
  },
  {
   "cell_type": "markdown",
   "metadata": {},
   "source": [
    "We learned that we need to change the list of object definitions to include the new npcs as well.\n",
    "\n",
    "![Image](https://github.com/user-attachments/assets/38ed3814-3eee-4b94-bf06-ec2bd092929f)\n",
    "![Image](https://github.com/user-attachments/assets/8520cc05-b28b-4afe-acda-85f637bd5588)"
   ]
  },
  {
   "cell_type": "markdown",
   "metadata": {},
   "source": [
    "## Flowchart/Game Structure"
   ]
  },
  {
   "cell_type": "markdown",
   "metadata": {},
   "source": [
    "![Image](https://github.com/user-attachments/assets/0729ea2f-aacf-41c5-b46b-6057159fe45f)"
   ]
  },
  {
   "cell_type": "markdown",
   "metadata": {},
   "source": [
    "The first class is GameControl. Within that, there are two attributes: gameLevels[], which contains options for which level of the game to play, and currentLevelIndex, which tracks the currently active level. There are three methods within that, start(), transitionToLevel(), which can help you switch levels, and gameLoop(), which makes the game’s main loop run.\n",
    "\n",
    "After it goes through that class, it goes to GameLevel. This contains the objects in the level and the level’s environment. The methods it contains create the environment for the game, load the level, and also load its objects.\n",
    "\n",
    "From there it goes to GameEnv and GameObject. GameEnv sets the background for the game, such as the size of the canvas. There are methods in there to size, resize, and clear the canvas.\n",
    "\n",
    "GameObject references GameLevel and holds multiple instances of it. The method state{} manages the character’s current state in the game (what it’s doing). Hitbox{} tells how large the area is that other characters can interact with. The other methods draw the objects in the game, check for collisions, resize the object, update, and destroy the objects.\n",
    "\n",
    "Background inherits methods from GameObject and contains the image and image source.\n",
    "\n",
    "Character is the parent class of both NPC and Player and inherits from GameObject. It draws the character and places it in the right place, along with animating it and putting it in its direction. \n",
    "\n",
    "NPC inherits from Character and has a method, bindInterectKeyListeners, that checks for interactions that are broadcasted and also handles key interactions\n",
    "\n",
    "Player inherits from Player and uses bindMovementKeyListeners() to let the player move around and interact.\n"
   ]
  },
  {
   "cell_type": "markdown",
   "metadata": {},
   "source": [
    "![Image](https://github.com/user-attachments/assets/4dc00214-997b-4c11-a711-a089bf33550c)\n"
   ]
  },
  {
   "cell_type": "markdown",
   "metadata": {},
   "source": [
    "This is our flowchart, demonstrating how our RPG level will work. We want to make a space escape room game where the player (Adventurer) adventures through space while meeting other NPCs to get hints to move on to the next level."
   ]
  },
  {
   "cell_type": "markdown",
   "metadata": {},
   "source": [
    "<img width=\"200\" alt=\"Image\" src=\"https://github.com/user-attachments/assets/bd8d48be-adef-4050-ac63-069d08f29cb5\" />\n",
    "<img width=\"178\" alt=\"Image\" src=\"https://github.com/user-attachments/assets/b7de3f72-47a5-4102-9e24-a67fc6c09259\" />\n",
    "\n",
    "Here is our sprite sheet:\n",
    "![Image](https://github.com/user-attachments/assets/252f6fbb-06b2-4742-9d24-a846280fe650)"
   ]
  },
  {
   "cell_type": "markdown",
   "metadata": {},
   "source": [
    "### Feedback we recieved"
   ]
  },
  {
   "cell_type": "markdown",
   "metadata": {},
   "source": [
    "I like how the npcs have a spinning idle animation. It looks really cute!!!! Also, I like how to solve the game and escape you have to talk to multiple npcs and figure out puzzles. Good job! Btw you can improve the game by slowing down chillguy cuz rn bro literally thinks he's Lightning Mqueen himself\n",
    "\n",
    "I like the cute pictures and interactivity. It's a nice puzzle. It is challenging to figure out the puzzle and solve the game. Good job!\n",
    "\n",
    "This game was simple but very cute and fun to play! I loved the way the puzzles were made and the little hints that were given to the player in order to lead them in the right direction. In my opinion, this is a great game to start out with and could always use more puzzles to build onto it. Overall, this game is personally right up my alley and I enjoyed playing it and figuring out the puzzles with a little help from the NPCS!\n"
   ]
  },
  {
   "cell_type": "markdown",
   "metadata": {},
   "source": [
    "### How to improve/Future Tinkers"
   ]
  },
  {
   "cell_type": "markdown",
   "metadata": {},
   "source": [
    "Based on the reviews we made our character slow down and are currently making the game easier for the user to understand and interact with. We made the character slow down by adjusting the animation rate. We are also planning on making a proximity function so that pressing a key will only reveal the text box if the player is in the npcs hitbox, otherwise the person playing the game can just end the game without going through the npcs.\n",
    "\n",
    "Proximity function:\n",
    "![Image](https://github.com/user-attachments/assets/00af8bf4-c980-4649-a09b-f754f4dff735)\n",
    "\n",
    "Code in progress: \n",
    "When the correct key is pressed down, handleKeyInteract is triggered and it checks how close the player is to the NPC. If it is interacting with the player’s hitbox, then the hintbox will be triggered."
   ]
  }
 ],
 "metadata": {
  "language_info": {
   "name": "python"
  }
 },
 "nbformat": 4,
 "nbformat_minor": 2
}
