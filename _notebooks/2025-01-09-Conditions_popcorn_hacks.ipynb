{
 "cells": [
  {
   "cell_type": "raw",
   "metadata": {
    "vscode": {
     "languageId": "raw"
    }
   },
   "source": [
    "---\n",
    "layout: post\n",
    "title: Conditions Popcorn Hacks\n",
    "description: Conditions Popcorn Hacks\n",
    "type: collab\n",
    "comments: true\n",
    "---"
   ]
  },
  {
   "cell_type": "markdown",
   "metadata": {},
   "source": [
    "# Popcorn Hacks!\n",
    "You're at the mall with your friends, and head into the Build-A-Bear store. Use conditionals to decide what kind of bear you want with different accessories! The employee comes up to you and explains the steps. She states...\n",
    "\n",
    "\"Choose Me: Pick that special furry friend — from a silly superhero to a sporty mascot and a cheerleading bunny to a snuggly teddy bear.\n",
    "Hear Me: Add a special sound effect to your furry friend.\n",
    "Stuff Me: Customize your creation with sounds, scents, stuffing and, of course, our iconic special heart that holds your love and wishes.\n",
    "Hug Me: Give your furry friend its first hug to make sure it’s stuffed just right.\n",
    "Dress Me: Turn up the fun with outfits and extras!\n",
    "Name Me: It’s official once your creation has a birth certificate of its bear-y own!\"\n",
    "\n",
    "### Hack 1: Simple If-Statement\n",
    "Create a variable based on what kind of stuffed animal you want."
   ]
  },
  {
   "cell_type": "code",
   "execution_count": null,
   "metadata": {
    "vscode": {
     "languageId": "javascript"
    }
   },
   "outputs": [
    {
     "data": {
      "application/javascript": "let bearType = \"Teddy\"; //Choose what kind of bear you want: Teddy or Unicorn (Example: let bearType = \"Teddyy\")\n\nif (bearType === \"Teddy\") { //Put the same bear type from above into this line\n    console.log(\"You picked a snuggly teddy bear!\");\n}\n",
      "text/plain": [
       "<IPython.core.display.Javascript object>"
      ]
     },
     "metadata": {},
     "output_type": "display_data"
    }
   ],
   "source": [
    "%%js\n",
    "let bearType = \"Teddy\"; //Choose what kind of bear you want: Teddy or Unicorn (Example: let bearType = \"Teddyy\")\n",
    "\n",
    "if (bearType === \"Teddy\") { //Put the same bear type from above into this line\n",
    "    console.log(\"You picked a snuggly teddy bear!\");\n",
    "}"
   ]
  },
  {
   "cell_type": "markdown",
   "metadata": {},
   "source": [
    "### Hack 2: If-Else Statement\n",
    "Add a sound to the bear based on the type chosen."
   ]
  },
  {
   "cell_type": "code",
   "execution_count": 6,
   "metadata": {
    "vscode": {
     "languageId": "javascript"
    }
   },
   "outputs": [
    {
     "data": {
      "application/javascript": "let bearType = \"Teddy\"; //Put the same bear type as before.\n\nif (bearType ===\"Teddy\") {\n    console.log(\"Your Teddy snores...\");\n} else {\n    console.log(\"Your Unicorn neighs loud...\")\n}\n",
      "text/plain": [
       "<IPython.core.display.Javascript object>"
      ]
     },
     "metadata": {},
     "output_type": "display_data"
    }
   ],
   "source": [
    "%%js\n",
    "let bearType = \"Teddy\"; //Put the same bear type as before.\n",
    "\n",
    "if (bearType ===\"Teddy\") {\n",
    "    console.log(\"Your Teddy snores...\");\n",
    "} else {\n",
    "    console.log(\"Your Unicorn neighs loud...\")\n",
    "}\n"
   ]
  },
  {
   "cell_type": "markdown",
   "metadata": {},
   "source": [
    "### Hack 3: Else-If Statement\n",
    "Choose the stuffing type using an If-Else-If statement"
   ]
  },
  {
   "cell_type": "code",
   "execution_count": 7,
   "metadata": {
    "vscode": {
     "languageId": "javascript"
    }
   },
   "outputs": [
    {
     "data": {
      "application/javascript": "let stuffingType = \"Fluffy\"; //Choose a stuffing: Fluffy, Firm, or Squishy\n\nif (stuffingType === \"Fluffy\") {\n    console.log(\"Your bear will be extra soft and fluffy!\");\n} else if (stuffingType === \"Firm\") {\n    console.log (\"Your bear will have a firm, sturdy feel.\");\n} else {\n    console.log(\"Your bear will be nice and squishy!\");\n}\n",
      "text/plain": [
       "<IPython.core.display.Javascript object>"
      ]
     },
     "metadata": {},
     "output_type": "display_data"
    }
   ],
   "source": [
    "%%js\n",
    "let stuffingType = \"Fluffy\"; //Choose a stuffing: Fluffy, Firm, or Squishy\n",
    "\n",
    "if (stuffingType === \"Fluffy\") {\n",
    "    console.log(\"Your bear will be extra soft and fluffy!\");\n",
    "} else if (stuffingType === \"Firm\") {\n",
    "    console.log (\"Your bear will have a firm, sturdy feel.\");\n",
    "} else {\n",
    "    console.log(\"Your bear will be nice and squishy!\");\n",
    "}"
   ]
  },
  {
   "cell_type": "markdown",
   "metadata": {},
   "source": [
    "### Hack 4: Switch Statement\n",
    "Use a switch statement to pick a bear outfit"
   ]
  },
  {
   "cell_type": "code",
   "execution_count": 8,
   "metadata": {
    "vscode": {
     "languageId": "javascript"
    }
   },
   "outputs": [
    {
     "data": {
      "application/javascript": "let bearOutfit = \"Superhero\"; // Choose an outfit: \"Superhero\", \"Cheerleader\", \"Pirate\", \"Princess\"\n\nswitch (bearOutfit) {\n    case \"Superhero\":\n        console.log(\"Your bear is ready to save the day in a Superhero costume!\");\n        break;\n    case \"Cheerleader\":\n        console.log(\"Your bear will cheer with its Cheerleader outfit!\");\n        break;\n    case \"Pirate\":\n        console.log(\"Ahoy! Your bear is ready to sail in a Pirate costume!\");\n        break;\n    default:\n        console.log(\"Your bear is ready for a royal adventure in a Princess outfit!\");\n}\n",
      "text/plain": [
       "<IPython.core.display.Javascript object>"
      ]
     },
     "metadata": {},
     "output_type": "display_data"
    }
   ],
   "source": [
    "%%js\n",
    "let bearOutfit = \"Superhero\"; // Choose an outfit: \"Superhero\", \"Cheerleader\", \"Pirate\", \"Princess\"\n",
    "\n",
    "switch (bearOutfit) {\n",
    "    case \"Superhero\":\n",
    "        console.log(\"Your bear is ready to save the day in a Superhero costume!\");\n",
    "        break;\n",
    "    case \"Cheerleader\":\n",
    "        console.log(\"Your bear will cheer with its Cheerleader outfit!\");\n",
    "        break;\n",
    "    case \"Pirate\":\n",
    "        console.log(\"Ahoy! Your bear is ready to sail in a Pirate costume!\");\n",
    "        break;\n",
    "    default:\n",
    "        console.log(\"Your bear is ready for a royal adventure in a Princess outfit!\");\n",
    "}\n"
   ]
  },
  {
   "cell_type": "markdown",
   "metadata": {},
   "source": [
    "### Hack 5: Complete Build-A-Bear Experience\n",
    "Combine all conditionals to create new types of bears, stuffings, and outfits in a single code cell!"
   ]
  },
  {
   "cell_type": "code",
   "execution_count": 9,
   "metadata": {
    "vscode": {
     "languageId": "javascript"
    }
   },
   "outputs": [
    {
     "data": {
      "application/javascript": "let bearType = \"giraffe\"; //Make a type of bear!\nlet stuffingType = \"cotton\"; //Choose a type of stuffing!\nlet bearOutfit = \"magician\"; //Create your own outfit!\n\n// Step 1: Choose Me\nif (bearType === \"giraffe\") { //Choose a bear type\n    console.log(\"You picked a giraffe!\"); //Create a console message for the specified bear type\n} else if (bearType === \"elephant\") {\n    console.log(\"You picked an elephant!\");\n} else {\n    console.log(\"You picked a polar bear!\");\n}\n\n//Repeat these steps. When finished, you should be able to choose your own type of bear, stuffing, and outfit within a single code cell. Be creative and have fun!!!\n// Step 2: Hear Me\nif (bearType === \"giraffe\") {\n    console.log(\"Your giraffe snores loudly.\");\n} else {\n    console.log(\"Your bear is very abnormally silent.\");\n}\n\n// Step 3: Stuff Me\nif (stuffingType === \"cotton\") {\n    console.log(\"Your bear is very soft!\");\n} else if (stuffingType === \"squishy\") {\n    console.log(\"Your bear is squishy!\");\n} else {\n    console.log(\"Your bear is very nice!\");\n}\n\n// Step 4: Dress Me\nswitch (bearOutfit) {\n    case \"magician\":\n        console.log(\"Your bear is casting spells!\");\n        break;\n    case \"fairy\":\n        console.log(\"Your bear is flying!\");\n        break;\n    case \"pirate\":\n        console.log(\"Your bear is sailing across the seas!\");\n        break;\n    default:\n        console.log(\"Your bear is going to school!\");\n}\n",
      "text/plain": [
       "<IPython.core.display.Javascript object>"
      ]
     },
     "metadata": {},
     "output_type": "display_data"
    }
   ],
   "source": [
    "%%js\n",
    "let bearType = \"giraffe\"; //Make a type of bear!\n",
    "let stuffingType = \"cotton\"; //Choose a type of stuffing!\n",
    "let bearOutfit = \"magician\"; //Create your own outfit!\n",
    "\n",
    "// Step 1: Choose Me\n",
    "if (bearType === \"giraffe\") { //Choose a bear type\n",
    "    console.log(\"You picked a giraffe!\"); //Create a console message for the specified bear type\n",
    "} else if (bearType === \"elephant\") {\n",
    "    console.log(\"You picked an elephant!\");\n",
    "} else {\n",
    "    console.log(\"You picked a polar bear!\");\n",
    "}\n",
    "\n",
    "//Repeat these steps. When finished, you should be able to choose your own type of bear, stuffing, and outfit within a single code cell. Be creative and have fun!!!\n",
    "// Step 2: Hear Me\n",
    "if (bearType === \"giraffe\") {\n",
    "    console.log(\"Your giraffe snores loudly.\");\n",
    "} else {\n",
    "    console.log(\"Your bear is very abnormally silent.\");\n",
    "}\n",
    "\n",
    "// Step 3: Stuff Me\n",
    "if (stuffingType === \"cotton\") {\n",
    "    console.log(\"Your bear is very soft!\");\n",
    "} else if (stuffingType === \"squishy\") {\n",
    "    console.log(\"Your bear is squishy!\");\n",
    "} else {\n",
    "    console.log(\"Your bear is very nice!\");\n",
    "}\n",
    "\n",
    "// Step 4: Dress Me\n",
    "switch (bearOutfit) {\n",
    "    case \"magician\":\n",
    "        console.log(\"Your bear is casting spells!\");\n",
    "        break;\n",
    "    case \"fairy\":\n",
    "        console.log(\"Your bear is flying!\");\n",
    "        break;\n",
    "    case \"pirate\":\n",
    "        console.log(\"Your bear is sailing across the seas!\");\n",
    "        break;\n",
    "    default:\n",
    "        console.log(\"Your bear is going to school!\");\n",
    "}\n"
   ]
  }
 ],
 "metadata": {
  "kernelspec": {
   "display_name": "Python 3",
   "language": "python",
   "name": "python3"
  },
  "language_info": {
   "codemirror_mode": {
    "name": "ipython",
    "version": 3
   },
   "file_extension": ".py",
   "mimetype": "text/x-python",
   "name": "python",
   "nbconvert_exporter": "python",
   "pygments_lexer": "ipython3",
   "version": "3.13.0"
  }
 },
 "nbformat": 4,
 "nbformat_minor": 2
}
