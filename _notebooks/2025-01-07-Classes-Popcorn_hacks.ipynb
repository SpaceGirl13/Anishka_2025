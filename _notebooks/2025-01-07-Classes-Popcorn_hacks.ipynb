{
 "cells": [
  {
   "cell_type": "raw",
   "metadata": {
    "vscode": {
     "languageId": "raw"
    }
   },
   "source": [
    "---\n",
    "layout: post\n",
    "title: Classes and Methods Popcorn Hacks\n",
    "description: Popcorn Hacks for classes and methods.\n",
    "type: issues \n",
    "comments: true\n",
    "---"
   ]
  },
  {
   "cell_type": "markdown",
   "metadata": {},
   "source": [
    "# JavaScript Classes and Methods - Interactive Popcorns \n",
    "In this notebook, you will learn about classes and methods in JavaScript. During the lesson, use these to enhance your understanding of clases and methods\n",
    "### \n",
    "- **Objectivs**: Do something - Change Later\n",
    "- **How**:\n",
    "\n"
   ]
  },
  {
   "cell_type": "raw",
   "metadata": {
    "vscode": {
     "languageId": "raw"
    }
   },
   "source": [
    "In this notebook, you will learn about classes and methods in JavaScript. During the lesson, use these to enhance your understanding of clases and methods ###\n",
    "\n",
    "Objectivs: Do something - Change Later\n",
    "How:\n",
    "Exercise 1: Create a Rectangle (aka a fridge) _________________________ Exercise 2: Change Dimensions Use the Rectangle to: Part a.) Create a rectangle with a width of 20 and height of 40. Part b.) Change the dimensions to make the area 200 units². _________________________ Exercise 3: Experiment with Areas a.) Find all pairs of dimensions that give an area of 48 units². _________________________ Exercise 4: Rectangle Class (Missing Methods) class Rectangle { constructor(width, height) { this.width = width; this.height = height; } // **Code missing**: Add method to calculate the perimeter of the rectangle getPerimeter() { // Add logic here to return the perimeter } } const rect = new Rectangle(10, 5); console.log(rect.getPerimeter()); // Output should be 30 _________________________ Exercise 5: Square Class (Missing Method) class Square { constructor(sideLength) { this.sideLength = sideLength; } // Code missing: Add method to calculate the diagonal of the square getDiagonal() { // Add logic here to calculate and return the diagonal } } const square = new Square(5); console.log(square.getDiagonal()); // Output should be 7.07 (sideLength * √2) ___________________________\n",
    "\n"
   ]
  },
  {
   "cell_type": "code",
   "execution_count": null,
   "metadata": {
    "vscode": {
     "languageId": "javascript"
    }
   },
   "outputs": [
    {
     "data": {
      "application/javascript": "\nclass Rectangle {\n    constructor(width, height) {\n        this.width = width;\n        this.height = height;\n    }\n    calcArea(){\n        return this.width * this.height;\n    }\n    getPerimeter(){\n        return (this.width + this.height) * 2;\n    }\n}\n\nconst fridge = new Rectangle(20, 40); //creates a rectangle with demensions 20 x 40\nfridge = 5; //changes dimensions to 200 units squared.\nconsole.log(fridge.calcArea());\n\nconst rect1 = new Rectangle(1, 48); //all pairs and dimensions that give an area of 48\nconst rect2 = new Rectangle(2, 24);\nconst rect3 = new Rectangle(3, 16);\nconst rect4 = new Rectangle(4, 12);\nconst rect5 = new Rectangle(6, 8);\n\nconst rect = new Rectangle(5, 10); //popcorn hack 4\nconsole.log(rect.getPerimeter());\n\nclass square{ //popcorn hack 5\n    constructor(sideLength){\n        this.sideLength = sideLength;\n    }\n    getDiagonal(){\n        return (this.sideLength*(Math.sqrt(2)));\n    }\n}\n\nconst square1 = new square(5);\nconsole.log(squar1.getDiagonal());\n\n\n",
      "text/plain": [
       "<IPython.core.display.Javascript object>"
      ]
     },
     "metadata": {},
     "output_type": "display_data"
    }
   ],
   "source": [
    "%%js\n",
    "\n",
    "class Rectangle {\n",
    "    constructor(width, height) {\n",
    "        this.width = width;\n",
    "        this.height = height;\n",
    "    }\n",
    "    calcArea(){\n",
    "        return this.width * this.height;\n",
    "    }\n",
    "    getPerimeter(){\n",
    "        return (this.width + this.height) * 2;\n",
    "    }\n",
    "}\n",
    "\n",
    "const fridge = new Rectangle(20, 40); //creates a rectangle with demensions 20 x 40\n",
    "fridge = 5; //changes dimensions to 200 units squared.\n",
    "console.log(fridge.calcArea());\n",
    "\n",
    "const rect1 = new Rectangle(1, 48); //all pairs and dimensions that give an area of 48\n",
    "const rect2 = new Rectangle(2, 24);\n",
    "const rect3 = new Rectangle(3, 16);\n",
    "const rect4 = new Rectangle(4, 12);\n",
    "const rect5 = new Rectangle(6, 8);\n",
    "\n",
    "const rect = new Rectangle(5, 10); //popcorn hack 4\n",
    "console.log(rect.getPerimeter());\n",
    "\n",
    "class square{ //popcorn hack 5\n",
    "    constructor(sideLength){\n",
    "        this.sideLength = sideLength;\n",
    "    }\n",
    "    getDiagonal(){\n",
    "        return (this.sideLength*(Math.sqrt(2)));\n",
    "    }\n",
    "}\n",
    "\n",
    "const square1 = new square(5);\n",
    "console.log(square1.getDiagonal());\n",
    "\n",
    "\n"
   ]
  }
 ],
 "metadata": {
  "kernelspec": {
   "display_name": "Python 3",
   "language": "python",
   "name": "python3"
  },
  "language_info": {
   "codemirror_mode": {
    "name": "ipython",
    "version": 3
   },
   "file_extension": ".py",
   "mimetype": "text/x-python",
   "name": "python",
   "nbconvert_exporter": "python",
   "pygments_lexer": "ipython3",
   "version": "3.13.0"
  }
 },
 "nbformat": 4,
 "nbformat_minor": 2
}
